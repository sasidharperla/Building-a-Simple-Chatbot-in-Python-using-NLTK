{
  "nbformat": 4,
  "nbformat_minor": 0,
  "metadata": {
    "colab": {
      "provenance": [],
      "authorship_tag": "ABX9TyNCUOFR96Gw016aZWFRioYf",
      "include_colab_link": true
    },
    "kernelspec": {
      "name": "python3",
      "display_name": "Python 3"
    },
    "language_info": {
      "name": "python"
    }
  },
  "cells": [
    {
      "cell_type": "markdown",
      "metadata": {
        "id": "view-in-github",
        "colab_type": "text"
      },
      "source": [
        "<a href=\"https://colab.research.google.com/github/sasidharperla/Building-a-Simple-Chatbot-in-Python-using-NLTK/blob/master/automation.ipynb\" target=\"_parent\"><img src=\"https://colab.research.google.com/assets/colab-badge.svg\" alt=\"Open In Colab\"/></a>"
      ]
    },
    {
      "cell_type": "code",
      "source": [],
      "metadata": {
        "id": "lSDvof7LeYjb"
      },
      "execution_count": null,
      "outputs": []
    },
    {
      "cell_type": "code",
      "execution_count": 1,
      "metadata": {
        "id": "C62uTI_OHLTV"
      },
      "outputs": [],
      "source": [
        "import numpy as np\n",
        "import pandas as pd\n",
        "from sklearn.ensemble import RandomForestClassifier\n",
        "from sklearn.model_selection import train_test_split\n",
        "from sklearn.metrics import accuracy_score\n",
        "import json\n",
        "import random\n",
        "from datetime import datetime, timedelta"
      ]
    },
    {
      "cell_type": "code",
      "source": [
        "def generate_synthetic_data(num_samples=1000):\n",
        "    \"\"\"Generate synthetic home automation training data\"\"\"\n",
        "    data = []\n",
        "\n",
        "    for _ in range(num_samples):\n",
        "        # Time features\n",
        "        hour = random.randint(0, 23)\n",
        "        weekday = random.randint(0, 6)  # 0=Monday\n",
        "        month = random.randint(1, 12)\n",
        "\n",
        "        # Environmental conditions\n",
        "        temp = random.uniform(15, 35)\n",
        "        humidity = random.uniform(30, 80)\n",
        "        light_level = random.uniform(0, 100)\n",
        "\n",
        "        # Occupancy (simulated motion sensor)\n",
        "        occupied = random.choice([0, 1])\n",
        "\n",
        "        # Generate labels (what actions should happen)\n",
        "        lights_on = 0\n",
        "        ac_on = 0\n",
        "        security_mode = 0\n",
        "\n",
        "        # Rules to create patterns (these are what the ML will learn)\n",
        "        if occupied and (hour > 18 or hour < 6) and light_level < 30:\n",
        "            lights_on = 1\n",
        "        if temp > 25:\n",
        "            ac_on = 1\n",
        "        if not occupied and (hour > 22 or hour < 6):\n",
        "            security_mode = 1\n",
        "\n",
        "        data.append([\n",
        "            hour, weekday, month, temp, humidity, light_level, occupied,\n",
        "            lights_on, ac_on, security_mode\n",
        "        ])\n",
        "\n",
        "    columns = [\n",
        "        'hour', 'weekday', 'month', 'temperature', 'humidity', 'light_level', 'occupied',\n",
        "        'lights_on', 'ac_on', 'security_mode'\n",
        "    ]\n",
        "\n",
        "    return pd.DataFrame(data, columns=columns)"
      ],
      "metadata": {
        "id": "B_SRG_GtHRH3"
      },
      "execution_count": 2,
      "outputs": []
    },
    {
      "cell_type": "code",
      "source": [
        "def train_models(df):\n",
        "    \"\"\"Train separate models for each automation task\"\"\"\n",
        "    X = df[['hour', 'weekday', 'month', 'temperature', 'humidity', 'light_level', 'occupied']]\n",
        "\n",
        "    # Model for lights\n",
        "    y_lights = df['lights_on']\n",
        "    X_train, X_test, y_train, y_test = train_test_split(X, y_lights, test_size=0.2)\n",
        "    lights_model = RandomForestClassifier()\n",
        "    lights_model.fit(X_train, y_train)\n",
        "    lights_acc = accuracy_score(y_test, lights_model.predict(X_test))\n",
        "\n",
        "    # Model for AC\n",
        "    y_ac = df['ac_on']\n",
        "    X_train, X_test, y_train, y_test = train_test_split(X, y_ac, test_size=0.2)\n",
        "    ac_model = RandomForestClassifier()\n",
        "    ac_model.fit(X_train, y_train)\n",
        "    ac_acc = accuracy_score(y_test, ac_model.predict(X_test))\n",
        "\n",
        "    # Model for security\n",
        "    y_security = df['security_mode']\n",
        "    X_train, X_test, y_train, y_test = train_test_split(X, y_security, test_size=0.2)\n",
        "    security_model = RandomForestClassifier()\n",
        "    security_model.fit(X_train, y_train)\n",
        "    security_acc = accuracy_score(y_test, security_model.predict(X_test))\n",
        "\n",
        "    print(f\"Model accuracies - Lights: {lights_acc:.2f}, AC: {ac_acc:.2f}, Security: {security_acc:.2f}\")\n",
        "\n",
        "    return {\n",
        "        'lights_model': lights_model,\n",
        "        'ac_model': ac_model,\n",
        "        'security_model': security_model\n",
        "    }"
      ],
      "metadata": {
        "id": "s3_zAjiBHVmX"
      },
      "execution_count": 3,
      "outputs": []
    },
    {
      "cell_type": "code",
      "source": [
        "class VirtualHome:\n",
        "    def __init__(self, models):\n",
        "        self.models = models\n",
        "        self.state = {\n",
        "            'lights': False,\n",
        "            'ac': False,\n",
        "            'security_mode': False,\n",
        "            'temperature': 22,\n",
        "            'humidity': 45,\n",
        "            'light_level': 50,\n",
        "            'occupied': False\n",
        "        }\n",
        "        self.log = []\n",
        "\n",
        "    def update_sensors(self, temp=None, humidity=None, light=None, occupied=None):\n",
        "        \"\"\"Simulate sensor updates\"\"\"\n",
        "        if temp is not None:\n",
        "            self.state['temperature'] = temp\n",
        "        if humidity is not None:\n",
        "            self.state['humidity'] = humidity\n",
        "        if light is not None:\n",
        "            self.state['light_level'] = light\n",
        "        if occupied is not None:\n",
        "            self.state['occupied'] = occupied\n",
        "\n",
        "    def get_current_features(self):\n",
        "        \"\"\"Prepare feature vector for prediction\"\"\"\n",
        "        now = datetime.now()\n",
        "        return [\n",
        "            now.hour,\n",
        "            now.weekday(),\n",
        "            now.month,\n",
        "            self.state['temperature'],\n",
        "            self.state['humidity'],\n",
        "            self.state['light_level'],\n",
        "            self.state['occupied']\n",
        "        ]\n",
        "\n",
        "    def run_automation(self):\n",
        "        \"\"\"Make predictions and update home state\"\"\"\n",
        "        features = [self.get_current_features()]\n",
        "\n",
        "        # Predict actions\n",
        "        lights_pred = self.models['lights_model'].predict(features)[0]\n",
        "        ac_pred = self.models['ac_model'].predict(features)[0]\n",
        "        security_pred = self.models['security_model'].predict(features)[0]\n",
        "\n",
        "        # Update state\n",
        "        self.state['lights'] = bool(lights_pred)\n",
        "        self.state['ac'] = bool(ac_pred)\n",
        "        self.state['security_mode'] = bool(security_pred)\n",
        "\n",
        "        # Log action\n",
        "        action = {\n",
        "            'timestamp': datetime.now().isoformat(),\n",
        "            'actions': {\n",
        "                'lights': self.state['lights'],\n",
        "                'ac': self.state['ac'],\n",
        "                'security_mode': self.state['security_mode']\n",
        "            },\n",
        "            'sensor_state': self.state.copy()\n",
        "        }\n",
        "        self.log.append(action)\n",
        "\n",
        "        return action"
      ],
      "metadata": {
        "id": "FZhzHn1yHbGi"
      },
      "execution_count": 5,
      "outputs": []
    },
    {
      "cell_type": "code",
      "source": [
        "if __name__ == \"__main__\":\n",
        "    # Step 1: Generate and train on synthetic data\n",
        "    print(\"Generating training data...\")\n",
        "    df = generate_synthetic_data(5000)\n",
        "\n",
        "    print(\"Training models...\")\n",
        "    models = train_models(df)\n",
        "\n",
        "    # Step 2: Create virtual home with trained models\n",
        "    print(\"\\nCreating virtual smart home...\")\n",
        "    smart_home = VirtualHome(models)\n",
        "\n",
        "    # Simulate a day (you would normally get this from real sensors)\n",
        "    print(\"\\nSimulating a day in the virtual home...\")\n",
        "    times_of_day = [\n",
        "        (6, 20, 45, 60, True),   # Morning\n",
        "        (12, 28, 40, 80, True),  # Afternoon (hot)\n",
        "        (19, 24, 50, 30, True),  # Evening\n",
        "        (23, 22, 55, 10, False)  # Night (unoccupied)\n",
        "    ]\n",
        "\n",
        "    for hour, temp, humidity, light, occupied in times_of_day:\n",
        "        print(f\"\\n--- {hour}:00 ---\")\n",
        "        smart_home.update_sensors(temp=temp, humidity=humidity,\n",
        "                                 light=light, occupied=occupied)\n",
        "        action = smart_home.run_automation()\n",
        "\n",
        "        print(f\"Sensor State: Temp={temp}C, Light={light}%, Occupied={occupied}\")\n",
        "        print(f\"Actions: Lights={'ON' if action['actions']['lights'] else 'OFF'}, \"\n",
        "              f\"AC={'ON' if action['actions']['ac'] else 'OFF'}, \"\n",
        "              f\"Security={'ON' if action['actions']['security_mode'] else 'OFF'}\")"
      ],
      "metadata": {
        "colab": {
          "base_uri": "https://localhost:8080/"
        },
        "id": "Papuy6kdHhRB",
        "outputId": "b8791373-e969-45dd-b69a-4217892fb976"
      },
      "execution_count": 6,
      "outputs": [
        {
          "output_type": "stream",
          "name": "stdout",
          "text": [
            "Generating training data...\n",
            "Training models...\n",
            "Model accuracies - Lights: 1.00, AC: 1.00, Security: 1.00\n",
            "\n",
            "Creating virtual smart home...\n",
            "\n",
            "Simulating a day in the virtual home...\n",
            "\n",
            "--- 6:00 ---\n",
            "Sensor State: Temp=20C, Light=60%, Occupied=True\n",
            "Actions: Lights=OFF, AC=OFF, Security=OFF\n",
            "\n",
            "--- 12:00 ---\n",
            "Sensor State: Temp=28C, Light=80%, Occupied=True\n",
            "Actions: Lights=OFF, AC=ON, Security=OFF\n",
            "\n",
            "--- 19:00 ---\n",
            "Sensor State: Temp=24C, Light=30%, Occupied=True\n",
            "Actions: Lights=OFF, AC=OFF, Security=OFF\n",
            "\n",
            "--- 23:00 ---\n",
            "Sensor State: Temp=22C, Light=10%, Occupied=False\n",
            "Actions: Lights=OFF, AC=OFF, Security=OFF\n"
          ]
        },
        {
          "output_type": "stream",
          "name": "stderr",
          "text": [
            "/usr/local/lib/python3.11/dist-packages/sklearn/utils/validation.py:2739: UserWarning: X does not have valid feature names, but RandomForestClassifier was fitted with feature names\n",
            "  warnings.warn(\n",
            "/usr/local/lib/python3.11/dist-packages/sklearn/utils/validation.py:2739: UserWarning: X does not have valid feature names, but RandomForestClassifier was fitted with feature names\n",
            "  warnings.warn(\n",
            "/usr/local/lib/python3.11/dist-packages/sklearn/utils/validation.py:2739: UserWarning: X does not have valid feature names, but RandomForestClassifier was fitted with feature names\n",
            "  warnings.warn(\n",
            "/usr/local/lib/python3.11/dist-packages/sklearn/utils/validation.py:2739: UserWarning: X does not have valid feature names, but RandomForestClassifier was fitted with feature names\n",
            "  warnings.warn(\n",
            "/usr/local/lib/python3.11/dist-packages/sklearn/utils/validation.py:2739: UserWarning: X does not have valid feature names, but RandomForestClassifier was fitted with feature names\n",
            "  warnings.warn(\n",
            "/usr/local/lib/python3.11/dist-packages/sklearn/utils/validation.py:2739: UserWarning: X does not have valid feature names, but RandomForestClassifier was fitted with feature names\n",
            "  warnings.warn(\n",
            "/usr/local/lib/python3.11/dist-packages/sklearn/utils/validation.py:2739: UserWarning: X does not have valid feature names, but RandomForestClassifier was fitted with feature names\n",
            "  warnings.warn(\n",
            "/usr/local/lib/python3.11/dist-packages/sklearn/utils/validation.py:2739: UserWarning: X does not have valid feature names, but RandomForestClassifier was fitted with feature names\n",
            "  warnings.warn(\n",
            "/usr/local/lib/python3.11/dist-packages/sklearn/utils/validation.py:2739: UserWarning: X does not have valid feature names, but RandomForestClassifier was fitted with feature names\n",
            "  warnings.warn(\n",
            "/usr/local/lib/python3.11/dist-packages/sklearn/utils/validation.py:2739: UserWarning: X does not have valid feature names, but RandomForestClassifier was fitted with feature names\n",
            "  warnings.warn(\n",
            "/usr/local/lib/python3.11/dist-packages/sklearn/utils/validation.py:2739: UserWarning: X does not have valid feature names, but RandomForestClassifier was fitted with feature names\n",
            "  warnings.warn(\n",
            "/usr/local/lib/python3.11/dist-packages/sklearn/utils/validation.py:2739: UserWarning: X does not have valid feature names, but RandomForestClassifier was fitted with feature names\n",
            "  warnings.warn(\n"
          ]
        }
      ]
    },
    {
      "cell_type": "code",
      "source": [],
      "metadata": {
        "id": "9Lsy9j-3HhXQ"
      },
      "execution_count": null,
      "outputs": []
    }
  ]
}